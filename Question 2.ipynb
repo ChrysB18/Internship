{
 "cells": [
  {
   "cell_type": "markdown",
   "id": "0a8b3ed1",
   "metadata": {},
   "source": [
    "## Question 2"
   ]
  },
  {
   "cell_type": "code",
   "execution_count": 1,
   "id": "c7957dc7",
   "metadata": {},
   "outputs": [
    {
     "name": "stdout",
     "output_type": "stream",
     "text": [
      "Enter a number: 5\n",
      "The number does not belong to either list.\n",
      "List 1: [82, 118, 12, 114, 94, 60, 34, 110, 10, 140, 66, 44, 24, 148, 62, 120, 86, 126, 50, 112, 52, 6, 64, 100, 134, 96, 142, 84, 56, 20, 80, 116, 48, 138, 28, 36, 92, 122]\n",
      "List 2: [42, 16, 18, 26, 128, 38, 98, 2, 106, 72, 46, 22, 144, 124, 40, 136, 102, 32, 146, 4, 88, 132, 68, 150, 54, 90, 8, 14, 70, 0, 74, 130, 58, 108, 78, 104, 76, 30]\n"
     ]
    }
   ],
   "source": [
    "import random\n",
    "\n",
    "# Generate the list of numbers with an increment of 2\n",
    "number_list = list(range(0, 151, 2))\n",
    "\n",
    "# Randomly split the list into two\n",
    "random.shuffle(number_list)\n",
    "split_index = len(number_list) // 2\n",
    "list_1 = number_list[:split_index]\n",
    "list_2 = number_list[split_index:]\n",
    "\n",
    "while True:\n",
    "    try:\n",
    "        user_input = input(\"Enter a number: \")\n",
    "        user_number = int(user_input)\n",
    "        break\n",
    "    except ValueError:\n",
    "        print(\"Invalid input. Please enter a valid number.\")\n",
    "\n",
    "# Check if the number is in list 1 or list 2\n",
    "if user_number in list_1:\n",
    "    print(\"The number belongs to List 1.\")\n",
    "    list_2 = []  # Eliminate list 2\n",
    "elif user_number in list_2:\n",
    "    print(\"The number belongs to List 2.\")\n",
    "    list_1 = []  # Eliminate list 1\n",
    "else:\n",
    "    print(\"The number does not belong to either list.\")\n",
    "\n",
    "# Print the remaining list\n",
    "if list_1:\n",
    "    print(\"List 1:\", list_1)\n",
    "else:\n",
    "    print(\"List 1 is eliminated.\")\n",
    "if list_2:\n",
    "    print(\"List 2:\", list_2)\n",
    "else:\n",
    "    print(\"List 2 is eliminated.\")"
   ]
  },
  {
   "cell_type": "code",
   "execution_count": null,
   "id": "d4b5bfdf",
   "metadata": {},
   "outputs": [],
   "source": []
  }
 ],
 "metadata": {
  "kernelspec": {
   "display_name": "Python 3 (ipykernel)",
   "language": "python",
   "name": "python3"
  },
  "language_info": {
   "codemirror_mode": {
    "name": "ipython",
    "version": 3
   },
   "file_extension": ".py",
   "mimetype": "text/x-python",
   "name": "python",
   "nbconvert_exporter": "python",
   "pygments_lexer": "ipython3",
   "version": "3.11.1"
  }
 },
 "nbformat": 4,
 "nbformat_minor": 5
}
