{
 "cells": [
  {
   "cell_type": "markdown",
   "id": "507d583b",
   "metadata": {},
   "source": [
    "## Question 1"
   ]
  },
  {
   "cell_type": "code",
   "execution_count": 2,
   "id": "11856695",
   "metadata": {},
   "outputs": [
    {
     "name": "stdout",
     "output_type": "stream",
     "text": [
      "Enter your guess (1-100): h\n",
      "Invalid input. Please enter a valid number.\n",
      "Enter your guess (1-100): 50\n",
      "Too low! Guess higher.\n",
      "Enter your guess (1-100): 90\n",
      "Too high! Guess lower.\n",
      "Enter your guess (1-100): 70\n",
      "Too low! Guess higher.\n",
      "Enter your guess (1-100): 80\n",
      "Too low! Guess higher.\n",
      "Enter your guess (1-100): 89\n",
      "Congratulations! You guessed the number correctly!\n"
     ]
    }
   ],
   "source": [
    "import random\n",
    "\n",
    "def save_guesses_to_file(guesses):\n",
    "    with open(\"guesses.txt\", \"w\") as file:\n",
    "        for guess in guesses:\n",
    "            file.write(str(guess) + \"\\n\")\n",
    "\n",
    "def play_guessing_game():\n",
    "    guesses = []\n",
    "    random_number = random.randint(1, 100)\n",
    "    \n",
    "    while True:\n",
    "        user_input = input(\"Please enter a number (1-100): \")\n",
    "        if user_input.isdigit():\n",
    "            user_guess = int(user_input)\n",
    "            guesses.append(user_guess)\n",
    "            \n",
    "            if user_guess < random_number:\n",
    "                print(\"Too low! Guess higher.\")\n",
    "            elif user_guess > random_number:\n",
    "                print(\"Too high! Guess lower.\")\n",
    "            else:\n",
    "                print(\"Congratulations! You guessed the number correctly!\")\n",
    "                save_guesses_to_file(guesses)\n",
    "                break\n",
    "        else:\n",
    "            print(\"Invalid input. Please enter a number.\")\n",
    "\n",
    "play_guessing_game()\n",
    "\n",
    "with open(\"guesses.txt\", \"r\") as guesses:\n",
    "    content = guesses.read()\n",
    "    print(content)"
   ]
  },
  {
   "cell_type": "code",
   "execution_count": null,
   "id": "12c29751",
   "metadata": {},
   "outputs": [],
   "source": []
  },
  {
   "cell_type": "code",
   "execution_count": null,
   "id": "f977bf1c",
   "metadata": {},
   "outputs": [],
   "source": []
  },
  {
   "cell_type": "markdown",
   "id": "cccd6a6b",
   "metadata": {},
   "source": [
    "## Question 2"
   ]
  },
  {
   "cell_type": "code",
   "execution_count": 1,
   "id": "1936ced6",
   "metadata": {},
   "outputs": [
    {
     "name": "stdout",
     "output_type": "stream",
     "text": [
      "Enter a number: y\n",
      "Invalid input. Please enter a valid number.\n",
      "Enter a number: 5\n",
      "The number does not belong to either list.\n",
      "List 1: [120, 142, 104, 124, 6, 46, 86, 114, 68, 44, 52, 8, 96, 98, 90, 74, 42, 54, 84, 92, 100, 48, 116, 106, 146, 78, 36, 118, 138, 66, 26, 126, 14, 62, 22, 64, 12, 56]\n",
      "List 2: [50, 112, 18, 20, 144, 110, 34, 10, 102, 2, 38, 128, 122, 32, 136, 94, 150, 108, 148, 0, 4, 76, 88, 40, 58, 28, 16, 72, 130, 134, 80, 82, 140, 70, 60, 24, 132, 30]\n"
     ]
    }
   ],
   "source": [
    "import random\n",
    "\n",
    "# Generate the list of numbers with an increment of 2\n",
    "number_list = list(range(0, 151, 2))\n",
    "\n",
    "# Randomly split the list into two\n",
    "random.shuffle(number_list)\n",
    "split_index = len(number_list) // 2\n",
    "list_1 = number_list[:split_index]\n",
    "list_2 = number_list[split_index:]\n",
    "\n",
    "while True:\n",
    "    try:\n",
    "        user_input = input(\"Enter a number: \")\n",
    "        user_number = int(user_input)\n",
    "        break\n",
    "    except ValueError:\n",
    "        print(\"Invalid input. Please enter a valid number.\")\n",
    "\n",
    "# Check if the number is in list 1 or list 2\n",
    "if user_number in list_1:\n",
    "    print(\"The number belongs to List 1.\")\n",
    "    list_2 = []  # Eliminate list 2\n",
    "elif user_number in list_2:\n",
    "    print(\"The number belongs to List 2.\")\n",
    "    list_1 = []  # Eliminate list 1\n",
    "else:\n",
    "    print(\"The number does not belong to either list.\")\n",
    "\n",
    "# Print the remaining list\n",
    "if list_1:\n",
    "    print(\"List 1:\", list_1)\n",
    "else:\n",
    "    print(\"List 1 is eliminated.\")\n",
    "if list_2:\n",
    "    print(\"List 2:\", list_2)\n",
    "else:\n",
    "    print(\"List 2 is eliminated.\")"
   ]
  },
  {
   "cell_type": "code",
   "execution_count": null,
   "id": "9543670a",
   "metadata": {},
   "outputs": [],
   "source": []
  }
 ],
 "metadata": {
  "kernelspec": {
   "display_name": "Python 3 (ipykernel)",
   "language": "python",
   "name": "python3"
  },
  "language_info": {
   "codemirror_mode": {
    "name": "ipython",
    "version": 3
   },
   "file_extension": ".py",
   "mimetype": "text/x-python",
   "name": "python",
   "nbconvert_exporter": "python",
   "pygments_lexer": "ipython3",
   "version": "3.11.1"
  }
 },
 "nbformat": 4,
 "nbformat_minor": 5
}
