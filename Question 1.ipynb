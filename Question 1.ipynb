{
 "cells": [
  {
   "cell_type": "markdown",
   "id": "f1449e78",
   "metadata": {},
   "source": [
    "## Question 1"
   ]
  },
  {
   "cell_type": "code",
   "execution_count": 2,
   "id": "78a66deb",
   "metadata": {},
   "outputs": [
    {
     "name": "stdout",
     "output_type": "stream",
     "text": [
      "Enter your guess (1-100): h\n",
      "Invalid input. Please enter a valid number.\n",
      "Enter your guess (1-100): 50\n",
      "Too low! Guess higher.\n",
      "Enter your guess (1-100): 90\n",
      "Too high! Guess lower.\n",
      "Enter your guess (1-100): 70\n",
      "Too low! Guess higher.\n",
      "Enter your guess (1-100): 80\n",
      "Too low! Guess higher.\n",
      "Enter your guess (1-100): 89\n",
      "Congratulations! You guessed the number correctly!\n"
     ]
    }
   ],
   "source": [
    "\n",
    "import random\n",
    "\n",
    "#  saving guesses to a file\n",
    "def save_guesses_to_file(guesses):\n",
    "    with open(\"guesses.txt\", \"w\") as file:\n",
    "        for guess in guesses:\n",
    "            file.write(str(guess) + \"\\n\")\n",
    "\n",
    "# Function to generate random numbers\n",
    "def play_guessing_game():\n",
    "    guesses = []\n",
    "    random_number = random.randint(1, 100)\n",
    "\n",
    "# loop to ensure that only numbers are inputed \n",
    "    while True:\n",
    "        user_input = input(\"Please enter a number (1-100): \")\n",
    "        if user_input.isdigit():\n",
    "            user_guess = int(user_input)\n",
    "            guesses.append(user_guess)\n",
    "            \n",
    "            if user_guess < random_number:\n",
    "                print(\"Too low! Guess higher.\")\n",
    "            elif user_guess > random_number:\n",
    "                print(\"Too high! Guess lower.\")\n",
    "            else:\n",
    "                print(\"Congratulations! You guessed the number correctly!\")\n",
    "                save_guesses_to_file(guesses)\n",
    "                break\n",
    "        else:\n",
    "            print(\"Invalid input. Please enter a number.\")\n",
    "\n",
    "play_guessing_game()\n",
    "\n",
    "# Displaying \n",
    "with open(\"guesses.txt\", \"r\") as guesses:\n",
    "    content = guesses.read()\n",
    "    print(content)"
   ]
  },
  {
   "cell_type": "code",
   "execution_count": null,
   "id": "5553d6e5",
   "metadata": {},
   "outputs": [],
   "source": []
  },
  {
   "cell_type": "code",
   "execution_count": null,
   "id": "45fd9b6d",
   "metadata": {},
   "outputs": [],
   "source": []
  }
 ],
 "metadata": {
  "kernelspec": {
   "display_name": "Python 3 (ipykernel)",
   "language": "python",
   "name": "python3"
  },
  "language_info": {
   "codemirror_mode": {
    "name": "ipython",
    "version": 3
   },
   "file_extension": ".py",
   "mimetype": "text/x-python",
   "name": "python",
   "nbconvert_exporter": "python",
   "pygments_lexer": "ipython3",
   "version": "3.11.1"
  }
 },
 "nbformat": 4,
 "nbformat_minor": 5
}
